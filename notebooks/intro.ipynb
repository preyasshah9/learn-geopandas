{
 "cells": [
  {
   "cell_type": "markdown",
   "metadata": {},
   "source": [
    "# Introduction to GeoPandas\n",
    "GeoPandas turns pandas into your go‑to tool for interactive map analysis in Python.\n",
    "This notebook offers a quick tour of GeoPandas and shows how, in just a few minutes, you can load and explore real-world spatial datasets using the [geodatasets](https://geodatasets.readthedocs.io/en/latest/) library.\n",
    "\n",
    "First, let's handle a few imports required for this notebook."
   ]
  },
  {
   "cell_type": "code",
   "execution_count": null,
   "metadata": {},
   "outputs": [],
   "source": [
    "import geopandas\n",
    "import geodatasets"
   ]
  },
  {
   "cell_type": "markdown",
   "metadata": {},
   "source": [
    "What are the available datasets you can explore using geodatasets? To help find answer to this, you can simply use `geodatasets.data`. This gives you an access to the available datasets in nested dictionary which you can use to load a given dataset using geopandas."
   ]
  },
  {
   "cell_type": "code",
   "execution_count": null,
   "metadata": {},
   "outputs": [],
   "source": [
    "geodatasets.data"
   ]
  },
  {
   "cell_type": "markdown",
   "metadata": {},
   "source": [
    "When you expand the `geoda` tab, you will see the `nyc_neighborhoods` dataset. For illustration, let's use this as an example. You can simply modify the line below with the dataset name of your choice and play around with the geopandas library!"
   ]
  },
  {
   "cell_type": "code",
   "execution_count": null,
   "metadata": {},
   "outputs": [],
   "source": [
    "dataset_name = 'geoda.nyc_neighborhoods'\n",
    "# Alternate, you can also specify dataset_name like this: \n",
    "# dataset_name = 'geoda nyc_neighborhoods' "
   ]
  },
  {
   "cell_type": "markdown",
   "metadata": {},
   "source": [
    "Use `get_path` method from `geodatsets` library, and provide that as a filename in the `geopandas.read_file` function to obtain the dataframe object."
   ]
  },
  {
   "cell_type": "code",
   "execution_count": null,
   "metadata": {},
   "outputs": [],
   "source": [
    "gdf = geopandas.read_file(geodatasets.get_path(dataset_name))"
   ]
  },
  {
   "cell_type": "markdown",
   "metadata": {},
   "source": [
    "[Geodataframe](https://geopandas.org/en/stable/docs/reference/api/geopandas.GeoDataFrame.html) inherits from the Pandas dataframe object, so we can use the methods available in the pandas dataframe.\n",
    "\n",
    "Let's explore the first five rows in the Geodataframe using `head()`."
   ]
  },
  {
   "cell_type": "code",
   "execution_count": null,
   "metadata": {},
   "outputs": [],
   "source": [
    "gdf.head()"
   ]
  },
  {
   "cell_type": "markdown",
   "metadata": {},
   "source": [
    "Use `shape` to get the shape of the dataframe. For `nyc_neighborhoods` dataset, there are 195 rows and 99 columns."
   ]
  },
  {
   "cell_type": "code",
   "execution_count": null,
   "metadata": {},
   "outputs": [],
   "source": [
    "gdf.shape"
   ]
  },
  {
   "cell_type": "markdown",
   "metadata": {},
   "source": [
    "Let's explore the available `columns`."
   ]
  },
  {
   "cell_type": "code",
   "execution_count": null,
   "metadata": {},
   "outputs": [],
   "source": [
    "gdf.columns"
   ]
  },
  {
   "cell_type": "markdown",
   "metadata": {},
   "source": [
    "The most important is the `geometry` column which will be used for all spatial operations. The active geometry column could be obtained using `geometry.name`. You can set a different column as geometry using `geometry.set_name()` method."
   ]
  },
  {
   "cell_type": "code",
   "execution_count": null,
   "metadata": {},
   "outputs": [],
   "source": [
    "gdf.geometry.name"
   ]
  },
  {
   "cell_type": "markdown",
   "metadata": {},
   "source": [
    "Now, let's get to fun part: Plotting the geometry data! The `Geodataframe` provides the `plot` method. You could provide any options that are available in `matplotlib` plot library here! One example is a colormap which you could provide using `cmap` argument. The full list of colormaps are available at [Choosing the Colormaps](https://matplotlib.org/stable/tutorials/colors/colormaps.html)."
   ]
  },
  {
   "cell_type": "code",
   "execution_count": null,
   "metadata": {},
   "outputs": [],
   "source": [
    "gdf.plot(markersize=.5, cmap='viridis')"
   ]
  },
  {
   "cell_type": "markdown",
   "metadata": {},
   "source": [
    "You could also use `explore()` for interactive plots."
   ]
  },
  {
   "cell_type": "code",
   "execution_count": null,
   "metadata": {},
   "outputs": [],
   "source": [
    "gdf.explore()"
   ]
  },
  {
   "cell_type": "markdown",
   "metadata": {},
   "source": [
    "The user guide on [geopandas](https://geopandas.org/en/stable/docs/user_guide) is an excellent resource for a quick intro onto `geopandas` framework."
   ]
  }
 ],
 "metadata": {
  "kernelspec": {
   "display_name": "Python 3 (ipykernel)",
   "language": "python",
   "name": "python3"
  },
  "language_info": {
   "codemirror_mode": {
    "name": "ipython",
    "version": 3
   },
   "file_extension": ".py",
   "mimetype": "text/x-python",
   "name": "python",
   "nbconvert_exporter": "python",
   "pygments_lexer": "ipython3",
   "version": "3.9.18"
  }
 },
 "nbformat": 4,
 "nbformat_minor": 4
}

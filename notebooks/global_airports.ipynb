{
 "cells": [
  {
   "cell_type": "markdown",
   "metadata": {},
   "source": [
    "# Global Airports\n",
    "\n",
    "Let us explore the dataset related to the global airports. Through this notebook, we will learn:\n",
    "- Locate and download the dataset locally.\n",
    "- Read the dataset and configure the `geodataframe` from lat/lon.\n",
    "- Create and Customize the plots. We will also learn to color code the airports data from different continents separately.\n",
    "- Create an interactive plot and customize the tooltip to make it user friendly.\n",
    "\n",
    "Let's start with some imports."
   ]
  },
  {
   "cell_type": "code",
   "execution_count": null,
   "metadata": {},
   "outputs": [],
   "source": [
    "import geopandas\n",
    "import pandas as pd\n",
    "import kagglehub  # For downloading datasets."
   ]
  },
  {
   "cell_type": "markdown",
   "metadata": {},
   "source": [
    "We will download two datasets from Kaggle. If you have the Kaggle API token set, you could download the datasets using `kagglehub` library. Otherwise, you can download the dataset locally and use it with `pandas` library."
   ]
  },
  {
   "cell_type": "code",
   "execution_count": null,
   "metadata": {},
   "outputs": [],
   "source": [
    "\n",
    "\n",
    "# Download latest version\n",
    "airport_path = kagglehub.dataset_download(\"samvelkoch/global-airports-iata-icao-timezone-geo\")\n",
    "\n",
    "# Download latest version\n",
    "continent_country_path = kagglehub.dataset_download(\"hserdaraltan/countries-by-continent\")"
   ]
  },
  {
   "cell_type": "markdown",
   "metadata": {},
   "source": [
    "Now, initialize the dataframes from the dataset downloaded locally.\n",
    "\n",
    "NOTE: `continenets.csv` dataset name was slightly different and contained spaces. I modified the dataset filename to be `continents.csv` to keep it simple."
   ]
  },
  {
   "cell_type": "code",
   "execution_count": null,
   "metadata": {},
   "outputs": [],
   "source": [
    "airports_df = pd.read_csv(f\"{airport_path}/airports.csv\")\n",
    "countries_df = pd.read_csv(f\"{continent_country_path}/continents.csv\")"
   ]
  },
  {
   "cell_type": "markdown",
   "metadata": {},
   "source": [
    "Now, let's inspect the dataframes."
   ]
  },
  {
   "cell_type": "code",
   "execution_count": null,
   "metadata": {},
   "outputs": [],
   "source": [
    "countries_df.head()"
   ]
  },
  {
   "cell_type": "code",
   "execution_count": null,
   "metadata": {},
   "outputs": [],
   "source": [
    "airports_df.head()"
   ]
  },
  {
   "cell_type": "markdown",
   "metadata": {},
   "source": [
    "Later, we will merge these dataframes and color code the airports based on the continents they are part of. Notice that the `countries_df` had a naming mismatch between how contries are represented their and how they were presented in `airports_df`. The code below replaces these values. Also, some of the island countries were not part of `countries_df`. We will ignore that for now!"
   ]
  },
  {
   "cell_type": "code",
   "execution_count": null,
   "metadata": {},
   "outputs": [],
   "source": [
    "# Replace some of the non-matching values before join\n",
    "airports_df.replace(\"United States of America\", \"United States\", inplace=True)\n",
    "airports_df.replace(\"United States Minor Outlying Islands\", \"United States\", inplace=True)\n",
    "airports_df.replace(\"Puerto Rico\", \"United States\", inplace=True)\n",
    "airports_df.replace(\"Chili\", \"Chile\", inplace=True)\n",
    "airports_df.replace(\"Somali\", \"Somalia\", inplace=True)\n",
    "airports_df.replace(\"American Samoa\", \"Samoa\", inplace=True)\n",
    "airports_df.replace(\"Russian Federation\", \"Russia\", inplace=True)\n",
    "airports_df.replace(\"Great Britain (United Kingdom)\", \"United Kingdom\", inplace=True)\n",
    "airports_df.replace(\"Federated States of Micronesia\", \"Micronesia\", inplace=True)\n",
    "airports_df.replace(\"Cote d'Ivoire\", \"Ivory Coast\", inplace=True)\n",
    "airports_df.replace(\"Korea (South)\", \"South Korea\", inplace=True)\n",
    "airports_df.replace(\"Korea (North)\", \"North Korea\", inplace=True)\n",
    "airports_df.replace(\"Netherlands (Holland)\", \"Netherlands\", inplace=True)\n",
    "airports_df.replace(\"Myanmar\", \"Burma (Myanmar)\", inplace=True)\n",
    "airports_df.replace(\"Viet Nam\", \"Vietnam\", inplace=True)\n",
    "airports_df.replace(\"Lao People's Democratic Republic\", \"Laos\", inplace=True)\n",
    "airports_df.replace(\"Timor-Leste\", \"East Timor\", inplace=True)\n",
    "airports_df.replace(\"Saint Kitts (Christopher) and Nevis\", \"Saint Kitts and Nevis\", inplace=True)\n",
    "airports_df.replace(\"Czech Republic\", \"Czechia\", inplace=True)\n",
    "airports_df.replace(\"Marocco\", \"Morocco\", inplace=True)\n",
    "airports_df.replace(\"Greenland\", \"Denmark\", inplace=True)\n",
    "airports_df.replace(\"Burkina-Faso\", \"Burkina\", inplace=True)\n",
    "airports_df.replace(\"Slovak Republic\", \"Slovakia\", inplace=True)\n",
    "airports_df.replace(\"Bosnia & Herzegovina\", \"Bosnia and Herzegovina\", inplace=True)\n",
    "airports_df.replace(\"Libyan Arab Jamahiriya\", \"Libya\", inplace=True)\n",
    "airports_df.replace(\"Congo, Democratic Republic of the\", \"Democratic Republic of Congo\", inplace=True)"
   ]
  },
  {
   "cell_type": "markdown",
   "metadata": {},
   "source": [
    "Now, we will create a `GeoDataframe` from `airports_df`. We will utilize the Latitude and Longitude from the `airports_df`, represented by `GeoPointLat` and `GeoPointLon` and initialize the [Point](https://shapely.readthedocs.io/en/stable/reference/shapely.Point.html) from `shapely` library. The `crs` argument within the `GeoDataframe` object helps us correctly interpret the (lat, lon) points."
   ]
  },
  {
   "cell_type": "code",
   "execution_count": null,
   "metadata": {},
   "outputs": [],
   "source": [
    "from shapely.geometry import Point\n",
    "\n",
    "geometry = [Point(xy) for xy in zip(airports_df['GeoPointLong'], airports_df['GeoPointLat'])]\n",
    "gdf = geopandas.GeoDataFrame(airports_df, geometry=geometry, crs=\"EPSG:4326\")"
   ]
  },
  {
   "cell_type": "markdown",
   "metadata": {},
   "source": [
    "Let's plot this `Geodataframe` using `viridis` colormap."
   ]
  },
  {
   "cell_type": "code",
   "execution_count": null,
   "metadata": {},
   "outputs": [],
   "source": [
    "gdf.plot(markersize=.01, cmap=\"viridis\")"
   ]
  },
  {
   "cell_type": "markdown",
   "metadata": {},
   "source": [
    "Amazing! However, the interactive plot would provide us a better experience navigating the plot and locate the airports! Also, as added bonus, we will color code the airports based on their continent (which we can obtain using `countries_df`).\n",
    "\n",
    "First, let's find out all unique continent names. We have total 6 continents (There is no airport in Antarctica!!)"
   ]
  },
  {
   "cell_type": "code",
   "execution_count": null,
   "metadata": {},
   "outputs": [],
   "source": [
    "countries_df[\"Continent\"].unique()"
   ]
  },
  {
   "cell_type": "markdown",
   "metadata": {},
   "source": [
    "Now, let's assign each continent a unique color."
   ]
  },
  {
   "cell_type": "code",
   "execution_count": null,
   "metadata": {},
   "outputs": [],
   "source": [
    "colors = ['darkred', 'darkgreen', 'blue', 'purple', 'yellow', 'magenta']\n",
    "colors_df = pd.DataFrame({'Continent': countries_df[\"Continent\"].unique().tolist(), 'colors': colors})\n",
    "colors_df"
   ]
  },
  {
   "cell_type": "markdown",
   "metadata": {},
   "source": [
    "Now, let's merge the colors and contries dataframes to obtain a color mapping for each country, and finally merge that with the `GeoDataframe` to obtain the color mapping."
   ]
  },
  {
   "cell_type": "code",
   "execution_count": null,
   "metadata": {},
   "outputs": [],
   "source": [
    "continent_colors_df = pd.merge(countries_df, colors_df, left_on='Continent', right_on='Continent', how='left')\n",
    "merged_df = pd.merge(gdf, continent_colors_df, left_on='Country_Name', right_on='Country', how='left')"
   ]
  },
  {
   "cell_type": "markdown",
   "metadata": {},
   "source": [
    "Now, let's inspect the merged dataframe."
   ]
  },
  {
   "cell_type": "code",
   "execution_count": null,
   "metadata": {},
   "outputs": [],
   "source": [
    "merged_df.head()"
   ]
  },
  {
   "cell_type": "markdown",
   "metadata": {},
   "source": [
    "Now, some of the island countries are not available within the `countries_df`, and so we can either drop these columns or we can assign a default color to all airports not found in `countries_df`."
   ]
  },
  {
   "cell_type": "code",
   "execution_count": null,
   "metadata": {},
   "outputs": [],
   "source": [
    "merged_df[\"colors\"] = merged_df[\"colors\"].fillna('black')"
   ]
  },
  {
   "cell_type": "code",
   "execution_count": null,
   "metadata": {},
   "outputs": [],
   "source": [
    "merged_df"
   ]
  },
  {
   "cell_type": "code",
   "execution_count": null,
   "metadata": {},
   "outputs": [],
   "source": [
    "merged_df.plot(markersize=0.001, color=merged_df['colors'])"
   ]
  },
  {
   "cell_type": "markdown",
   "metadata": {},
   "source": [
    "And we are now ready to do an interactive plot!!"
   ]
  },
  {
   "cell_type": "code",
   "execution_count": null,
   "metadata": {},
   "outputs": [],
   "source": [
    "merged_df.explore(markersize=0.001, color=merged_df['colors'])"
   ]
  },
  {
   "cell_type": "markdown",
   "metadata": {},
   "source": [
    "Aah that looks awesome (barring few black dots). Notice when you hover over any airport, you will see all columns in tooltip. This is not ideal! Ideally we are only interested in country, airport code and airport name.\n",
    "\n",
    "Let's customize the tooltip! First, we will inspect the column names on a dataframe using `columns`."
   ]
  },
  {
   "cell_type": "code",
   "execution_count": null,
   "metadata": {},
   "outputs": [],
   "source": [
    "merged_df.columns"
   ]
  },
  {
   "cell_type": "markdown",
   "metadata": {},
   "source": [
    "Using `list` of column names in `tooltip` argument to the `explore` function, we can exactly obtain what are we looking for!"
   ]
  },
  {
   "cell_type": "code",
   "execution_count": null,
   "metadata": {},
   "outputs": [],
   "source": [
    "merged_df.explore(markersize=0.001, color=merged_df['colors'], tooltip=[\"AirportName\", \"IATA\",\"Country\"])"
   ]
  },
  {
   "cell_type": "markdown",
   "metadata": {},
   "source": [
    "Aah that looks much better!!!\n",
    "\n",
    "Notice you will see more airports than you expected! This also shows the regional, private airports and helipads. For example, New York City shows you many more than 3 airports!!"
   ]
  },
  {
   "cell_type": "code",
   "execution_count": null,
   "metadata": {},
   "outputs": [],
   "source": [
    "airports_df[airports_df[\"City_IATA\"] == 'NYC']"
   ]
  }
 ],
 "metadata": {
  "kernelspec": {
   "display_name": "pythonmaps-tutorial",
   "language": "python",
   "name": "python3"
  },
  "language_info": {
   "codemirror_mode": {
    "name": "ipython",
    "version": 3
   },
   "file_extension": ".py",
   "mimetype": "text/x-python",
   "name": "python",
   "nbconvert_exporter": "python",
   "pygments_lexer": "ipython3",
   "version": "3.9.18"
  }
 },
 "nbformat": 4,
 "nbformat_minor": 2
}

{
 "cells": [
  {
   "cell_type": "markdown",
   "metadata": {},
   "source": [
    "# Indian Railways\n",
    "\n",
    "Let's explore and visualize a really exciting and most complicated rail network data in the world: Indian Railway. We will explore this dataset from Kaggle. There are three datasets which are related with each other.\n",
    "\n",
    "- trains.json\n",
    "- stations.json\n",
    "- schedules.json\n",
    "\n",
    "First, let's take care of some imports."
   ]
  },
  {
   "cell_type": "code",
   "execution_count": null,
   "metadata": {},
   "outputs": [],
   "source": [
    "import kagglehub\n",
    "import pandas as pd\n",
    "import geopandas as gpd\n",
    "import json\n",
    "from shapely.geometry import LineString"
   ]
  },
  {
   "cell_type": "markdown",
   "metadata": {},
   "source": [
    "Let's import our dataset from Kaggle using `kagglehub`."
   ]
  },
  {
   "cell_type": "code",
   "execution_count": null,
   "metadata": {},
   "outputs": [],
   "source": [
    "# Download latest version\n",
    "path = kagglehub.dataset_download(\"sripaadsrinivasan/indian-railways-dataset\")\n",
    "\n",
    "print(\"Path to dataset files:\", path)"
   ]
  },
  {
   "cell_type": "markdown",
   "metadata": {},
   "source": [
    "Using `read_file` provided by `geopandas` library, we can conveniently read the JSON files and initialize the `GeoDataframe`. How convenient!"
   ]
  },
  {
   "cell_type": "code",
   "execution_count": null,
   "metadata": {},
   "outputs": [],
   "source": [
    "stations_gdf = gpd.read_file(f\"{path}/stations.json\")"
   ]
  },
  {
   "cell_type": "markdown",
   "metadata": {},
   "source": [
    "Let's inspect the `stations_gdf` using `head()`."
   ]
  },
  {
   "cell_type": "code",
   "execution_count": null,
   "metadata": {},
   "outputs": [],
   "source": [
    "stations_gdf.head()"
   ]
  },
  {
   "cell_type": "markdown",
   "metadata": {},
   "source": [
    "Unfortunately, attempting to read the `trains.json` in a similar fashion doesn't work. The `trains.json` contains `LineString`, and certain records within the `trains.json` contains only a single point, which causes violations in trying to parse into `GeoDataframe`.\n",
    "\n",
    "Thanks to the notebook: [Indian Railways EDA](https://www.kaggle.com/code/nilankardeb/indian-railways-eda) on Kaggle, we have a function `convert_to_gds` which sanitizes the input data and provides us a way to obtain the `GeoDataframe`."
   ]
  },
  {
   "cell_type": "code",
   "execution_count": null,
   "metadata": {},
   "outputs": [],
   "source": [
    "def convert_to_gdf(json_data, geometry_type):\n",
    "    if geometry_type == 'Point':\n",
    "        gdf = gpd.GeoDataFrame.from_features(features=json_data['features'])\n",
    "    elif geometry_type == 'LineString':\n",
    "        # fetch the column names based on `properties` keys\n",
    "        properties_columns = list(json_data['features'][0]['properties'].keys())\n",
    "        # fetch the values (rows) based on the `properties` values\n",
    "        properties_vals = [list(i['properties'].values()) for i in json_data['features']]\n",
    "\n",
    "\n",
    "        geometry_col = [\n",
    "            LineString(i['geometry']['coordinates']) \n",
    "            if len(i['geometry']['coordinates']) >= 2\n",
    "            # else Point(i['geometry']['coordinates'][0])\n",
    "            else LineString([i['geometry']['coordinates'][0]] * 2)\n",
    "            for i in json_data['features']\n",
    "        ]\n",
    "            \n",
    "        df = pd.DataFrame(data=properties_vals, columns=properties_columns)\n",
    "        df['geometry'] = geometry_col\n",
    "        gdf = gpd.GeoDataFrame(df)\n",
    "        \n",
    "    # setting the CRS\n",
    "    gdf = gdf.set_crs('EPSG:4326')\n",
    "    \n",
    "    return gdf"
   ]
  },
  {
   "cell_type": "markdown",
   "metadata": {},
   "source": [
    "Particularly notice these lines of code if you are interested. If there is a single coordinate, it is simply repeated to create at least two coordinates required to form a `LineString`.\n",
    "```\n",
    "if len(i['geometry']['coordinates']) >= 2\n",
    "# else Point(i['geometry']['coordinates'][0])\n",
    "else LineString([i['geometry']['coordinates'][0]] * 2)\n",
    "```\n",
    "Now, let's use this function to initialize a `trains_gdf`. "
   ]
  },
  {
   "cell_type": "code",
   "execution_count": null,
   "metadata": {},
   "outputs": [],
   "source": [
    "with open(f\"{path}/trains.json\", mode='r') as json_file:\n",
    "    trains_gdf = convert_to_gdf(json.load(json_file), geometry_type=\"LineString\")"
   ]
  },
  {
   "cell_type": "markdown",
   "metadata": {},
   "source": [
    "Let's inspect the `trains_gdf` using `head()`."
   ]
  },
  {
   "cell_type": "code",
   "execution_count": null,
   "metadata": {},
   "outputs": [],
   "source": [
    "trains_gdf.head()"
   ]
  },
  {
   "cell_type": "markdown",
   "metadata": {},
   "source": [
    "`schedules.json` is not a GeoDataframe, so we will simply create a regular Pandas Dataframe."
   ]
  },
  {
   "cell_type": "code",
   "execution_count": null,
   "metadata": {},
   "outputs": [],
   "source": [
    "with open(f\"{path}/schedules.json\", mode='r') as json_file:\n",
    "    schedules = json.load(json_file)\n",
    "    columns = list(schedules[0].keys())\n",
    "    data_vals = [list(i.values()) for i in schedules]\n",
    "    schedules_df = pd.DataFrame(data=data_vals, columns=columns)\n",
    "schedules_df.head()"
   ]
  }
 ],
 "metadata": {
  "kernelspec": {
   "display_name": "pythonmaps-tutorial",
   "language": "python",
   "name": "python3"
  },
  "language_info": {
   "codemirror_mode": {
    "name": "ipython",
    "version": 3
   },
   "file_extension": ".py",
   "mimetype": "text/x-python",
   "name": "python",
   "nbconvert_exporter": "python",
   "pygments_lexer": "ipython3",
   "version": "3.9.18"
  }
 },
 "nbformat": 4,
 "nbformat_minor": 2
}
